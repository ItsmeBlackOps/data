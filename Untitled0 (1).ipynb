{
  "nbformat": 4,
  "nbformat_minor": 0,
  "metadata": {
    "colab": {
      "provenance": []
    },
    "kernelspec": {
      "name": "python3",
      "display_name": "Python 3"
    },
    "language_info": {
      "name": "python"
    }
  },
  "cells": [
    {
      "cell_type": "code",
      "source": [
        "import pandas as pd\n",
        "import time\n",
        "start_time = time.time()\n",
        "df1 = pd.read_excel('/content/PROSPECTS.xlsx')\n",
        "df2 = pd.read_excel('/content/RESULTS.xlsx')\n",
        "df3 = pd.read_excel('/content/1.xlsx')\n",
        "\n",
        "address1 = df1[\"Address\"]\n",
        "address2 = df2[\"Address\"]\n",
        "address3 = df3[\"SERVICE_ADDR1\"].str.split(\" #\").str[0]\n",
        "common_addresses = address1[address1.isin(address2)]\n",
        "\n",
        "update = address3[address3.isin(common_addresses)]\n",
        "\n",
        "print(update)\n",
        "\n",
        "print(\"Time taken: {:.2f} seconds\".format(time.time() - start_time))"
      ],
      "metadata": {
        "colab": {
          "base_uri": "https://localhost:8080/"
        },
        "id": "zWcLCvnasZ1l",
        "outputId": "84d11e4b-cd28-4eb2-e5da-49ea8a6592f1"
      },
      "execution_count": 27,
      "outputs": [
        {
          "output_type": "stream",
          "name": "stdout",
          "text": [
            "336577    410 S BROAD ST\n",
            "336578    410 S BROAD ST\n",
            "336579    410 S BROAD ST\n",
            "336580    410 S BROAD ST\n",
            "336581    410 S BROAD ST\n",
            "Name: SERVICE_ADDR1, dtype: object\n",
            "Time taken: 55.98 seconds\n"
          ]
        }
      ]
    }
  ]
}